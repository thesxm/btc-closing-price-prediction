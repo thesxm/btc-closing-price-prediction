{
 "cells": [
  {
   "cell_type": "markdown",
   "id": "2a74786d-1de5-4de7-9e63-50ce61c90257",
   "metadata": {},
   "source": [
    "# Import Libraries"
   ]
  },
  {
   "cell_type": "code",
   "execution_count": 1,
   "id": "753902bb-b0e0-472d-b69f-ac53e964bd68",
   "metadata": {},
   "outputs": [],
   "source": [
    "import pandas as pd\n",
    "import numpy as np\n",
    "from datetime import datetime\n",
    "from matplotlib import pyplot as plt\n",
    "from sklearn.impute import KNNImputer"
   ]
  },
  {
   "cell_type": "markdown",
   "id": "9850c2c3-a4d9-4dfa-bde5-b0f0dbf0bf2b",
   "metadata": {},
   "source": [
    "# Load the raw data"
   ]
  },
  {
   "cell_type": "code",
   "execution_count": 2,
   "id": "1298367f-228a-4ad0-990c-cf5672446526",
   "metadata": {},
   "outputs": [],
   "source": [
    "df = pd.read_csv(\"../data/raw.csv\")\n",
    "# This project will only deal with the Close price and not the Adjusted Close Price\n",
    "df = df.drop([\"Adj Close\"], axis = 1)\n",
    "# Take dates as datetime\n",
    "df[\"Date\"] = pd.to_datetime(df[\"Date\"])"
   ]
  },
  {
   "cell_type": "markdown",
   "id": "00772eb2-37f1-46bf-a2f0-ab0b9983cf05",
   "metadata": {},
   "source": [
    "# Handle missing values"
   ]
  },
  {
   "cell_type": "markdown",
   "id": "8176b6c6-87a2-4ba0-a538-4146da5e1eb6",
   "metadata": {},
   "source": [
    "## Count missing values"
   ]
  },
  {
   "cell_type": "code",
   "execution_count": 3,
   "id": "b9b20b1c-900b-4a77-aa7a-06b99406194c",
   "metadata": {},
   "outputs": [
    {
     "data": {
      "text/plain": [
       "np.int64(0)"
      ]
     },
     "execution_count": 3,
     "metadata": {},
     "output_type": "execute_result"
    }
   ],
   "source": [
    "df.isna().sum().sum()"
   ]
  },
  {
   "cell_type": "markdown",
   "id": "d91ea370-3301-4287-b63d-1a4de1ddbbc7",
   "metadata": {},
   "source": [
    "### No missing values found."
   ]
  },
  {
   "cell_type": "markdown",
   "id": "a0b52ea0-7852-431d-8dfe-4c397902e62d",
   "metadata": {},
   "source": [
    "# Split and sort data based on years"
   ]
  },
  {
   "cell_type": "code",
   "execution_count": 4,
   "id": "de747f10-d959-4c9b-9d63-fa240b2a0681",
   "metadata": {},
   "outputs": [],
   "source": [
    "df_from_2014 = df[df[\"Date\"] >= datetime(2014, 1, 1)]\n",
    "df_2014_to_2020 = df_from_2014[df_from_2014[\"Date\"] <= datetime(2020, 12, 31)]\n",
    "\n",
    "df_from_2021 = df[df[\"Date\"] >= datetime(2021, 1, 1)]\n",
    "df_2021_to_2022 = df_from_2021[df_from_2021[\"Date\"] <= datetime(2022, 12, 31)]\n",
    "\n",
    "df_2014_to_2020 = df_2014_to_2020.sort_values(\"Date\").reset_index(drop = True)\n",
    "df_2021_to_2022 = df_2021_to_2022.sort_values(\"Date\").reset_index(drop = True)"
   ]
  },
  {
   "cell_type": "code",
   "execution_count": 5,
   "id": "034c59cd-2bf6-4fbb-b671-18be0e23e56f",
   "metadata": {},
   "outputs": [
    {
     "data": {
      "text/html": [
       "<div>\n",
       "<style scoped>\n",
       "    .dataframe tbody tr th:only-of-type {\n",
       "        vertical-align: middle;\n",
       "    }\n",
       "\n",
       "    .dataframe tbody tr th {\n",
       "        vertical-align: top;\n",
       "    }\n",
       "\n",
       "    .dataframe thead th {\n",
       "        text-align: right;\n",
       "    }\n",
       "</style>\n",
       "<table border=\"1\" class=\"dataframe\">\n",
       "  <thead>\n",
       "    <tr style=\"text-align: right;\">\n",
       "      <th></th>\n",
       "      <th>Date</th>\n",
       "      <th>Open</th>\n",
       "      <th>High</th>\n",
       "      <th>Low</th>\n",
       "      <th>Close</th>\n",
       "      <th>Volume</th>\n",
       "    </tr>\n",
       "  </thead>\n",
       "  <tbody>\n",
       "    <tr>\n",
       "      <th>0</th>\n",
       "      <td>2014-09-17</td>\n",
       "      <td>465.864014</td>\n",
       "      <td>468.174011</td>\n",
       "      <td>452.421997</td>\n",
       "      <td>457.334015</td>\n",
       "      <td>21056800</td>\n",
       "    </tr>\n",
       "    <tr>\n",
       "      <th>1</th>\n",
       "      <td>2014-09-18</td>\n",
       "      <td>456.859985</td>\n",
       "      <td>456.859985</td>\n",
       "      <td>413.104004</td>\n",
       "      <td>424.440002</td>\n",
       "      <td>34483200</td>\n",
       "    </tr>\n",
       "    <tr>\n",
       "      <th>2</th>\n",
       "      <td>2014-09-19</td>\n",
       "      <td>424.102997</td>\n",
       "      <td>427.834991</td>\n",
       "      <td>384.532013</td>\n",
       "      <td>394.795990</td>\n",
       "      <td>37919700</td>\n",
       "    </tr>\n",
       "    <tr>\n",
       "      <th>3</th>\n",
       "      <td>2014-09-20</td>\n",
       "      <td>394.673004</td>\n",
       "      <td>423.295990</td>\n",
       "      <td>389.882996</td>\n",
       "      <td>408.903992</td>\n",
       "      <td>36863600</td>\n",
       "    </tr>\n",
       "    <tr>\n",
       "      <th>4</th>\n",
       "      <td>2014-09-21</td>\n",
       "      <td>408.084991</td>\n",
       "      <td>412.425995</td>\n",
       "      <td>393.181000</td>\n",
       "      <td>398.821014</td>\n",
       "      <td>26580100</td>\n",
       "    </tr>\n",
       "    <tr>\n",
       "      <th>...</th>\n",
       "      <td>...</td>\n",
       "      <td>...</td>\n",
       "      <td>...</td>\n",
       "      <td>...</td>\n",
       "      <td>...</td>\n",
       "      <td>...</td>\n",
       "    </tr>\n",
       "    <tr>\n",
       "      <th>2293</th>\n",
       "      <td>2020-12-27</td>\n",
       "      <td>26439.373047</td>\n",
       "      <td>28288.839844</td>\n",
       "      <td>25922.769531</td>\n",
       "      <td>26272.294922</td>\n",
       "      <td>66479895605</td>\n",
       "    </tr>\n",
       "    <tr>\n",
       "      <th>2294</th>\n",
       "      <td>2020-12-28</td>\n",
       "      <td>26280.822266</td>\n",
       "      <td>27389.111328</td>\n",
       "      <td>26207.640625</td>\n",
       "      <td>27084.808594</td>\n",
       "      <td>49056742893</td>\n",
       "    </tr>\n",
       "    <tr>\n",
       "      <th>2295</th>\n",
       "      <td>2020-12-29</td>\n",
       "      <td>27081.810547</td>\n",
       "      <td>27370.720703</td>\n",
       "      <td>25987.298828</td>\n",
       "      <td>27362.437500</td>\n",
       "      <td>45265946774</td>\n",
       "    </tr>\n",
       "    <tr>\n",
       "      <th>2296</th>\n",
       "      <td>2020-12-30</td>\n",
       "      <td>27360.089844</td>\n",
       "      <td>28937.740234</td>\n",
       "      <td>27360.089844</td>\n",
       "      <td>28840.953125</td>\n",
       "      <td>51287442704</td>\n",
       "    </tr>\n",
       "    <tr>\n",
       "      <th>2297</th>\n",
       "      <td>2020-12-31</td>\n",
       "      <td>28841.574219</td>\n",
       "      <td>29244.876953</td>\n",
       "      <td>28201.992188</td>\n",
       "      <td>29001.720703</td>\n",
       "      <td>46754964848</td>\n",
       "    </tr>\n",
       "  </tbody>\n",
       "</table>\n",
       "<p>2298 rows × 6 columns</p>\n",
       "</div>"
      ],
      "text/plain": [
       "           Date          Open          High           Low         Close  \\\n",
       "0    2014-09-17    465.864014    468.174011    452.421997    457.334015   \n",
       "1    2014-09-18    456.859985    456.859985    413.104004    424.440002   \n",
       "2    2014-09-19    424.102997    427.834991    384.532013    394.795990   \n",
       "3    2014-09-20    394.673004    423.295990    389.882996    408.903992   \n",
       "4    2014-09-21    408.084991    412.425995    393.181000    398.821014   \n",
       "...         ...           ...           ...           ...           ...   \n",
       "2293 2020-12-27  26439.373047  28288.839844  25922.769531  26272.294922   \n",
       "2294 2020-12-28  26280.822266  27389.111328  26207.640625  27084.808594   \n",
       "2295 2020-12-29  27081.810547  27370.720703  25987.298828  27362.437500   \n",
       "2296 2020-12-30  27360.089844  28937.740234  27360.089844  28840.953125   \n",
       "2297 2020-12-31  28841.574219  29244.876953  28201.992188  29001.720703   \n",
       "\n",
       "           Volume  \n",
       "0        21056800  \n",
       "1        34483200  \n",
       "2        37919700  \n",
       "3        36863600  \n",
       "4        26580100  \n",
       "...           ...  \n",
       "2293  66479895605  \n",
       "2294  49056742893  \n",
       "2295  45265946774  \n",
       "2296  51287442704  \n",
       "2297  46754964848  \n",
       "\n",
       "[2298 rows x 6 columns]"
      ]
     },
     "execution_count": 5,
     "metadata": {},
     "output_type": "execute_result"
    }
   ],
   "source": [
    "df_2014_to_2020"
   ]
  },
  {
   "cell_type": "markdown",
   "id": "6f0442d4-cf44-424a-817f-f1dee8e1eeb6",
   "metadata": {},
   "source": [
    "# Create additional features"
   ]
  },
  {
   "cell_type": "markdown",
   "id": "784744e0-6bb5-4af0-a9b0-35c03a3be741",
   "metadata": {},
   "source": [
    "## Change"
   ]
  },
  {
   "cell_type": "code",
   "execution_count": 6,
   "id": "5e15f0b9-7baa-4396-8a40-4b77b080e11d",
   "metadata": {},
   "outputs": [],
   "source": [
    "for col in [\"Open\", \"High\", \"Low\", \"Close\", \"Volume\"]:\n",
    "    df_2014_to_2020[f\"{col}_Change\"] = df_2014_to_2020[col].diff()\n",
    "    df_2021_to_2022[f\"{col}_Change\"] = df_2021_to_2022[col].diff()"
   ]
  },
  {
   "cell_type": "markdown",
   "id": "c8273919-2068-403f-8551-17cdf9bc37b6",
   "metadata": {},
   "source": [
    "## Change Ratio"
   ]
  },
  {
   "cell_type": "code",
   "execution_count": 7,
   "id": "4d186f19-18bf-4622-9299-ea92a335aa16",
   "metadata": {},
   "outputs": [],
   "source": [
    "for col in [\"Open\", \"High\", \"Low\", \"Close\", \"Volume\"]:\n",
    "    df_2014_to_2020[f\"{col}_Change_Ratio\"] = df_2014_to_2020[f\"{col}_Change\"] / df_2014_to_2020[col]\n",
    "    df_2021_to_2022[f\"{col}_Change_Ratio\"] = df_2021_to_2022[f\"{col}_Change\"] / df_2021_to_2022[col]"
   ]
  },
  {
   "cell_type": "markdown",
   "id": "01ecc06e-2577-485d-8f2d-3000864d12fd",
   "metadata": {},
   "source": [
    "# Remove Invalid Rows"
   ]
  },
  {
   "cell_type": "code",
   "execution_count": 8,
   "id": "1164f54e-9479-43d1-b890-454af9b94fbf",
   "metadata": {},
   "outputs": [],
   "source": [
    "df_2014_to_2020 = df_2014_to_2020.dropna()\n",
    "df_2021_to_2022 = df_2021_to_2022.dropna()"
   ]
  },
  {
   "cell_type": "markdown",
   "id": "a93ae398-9c3e-41e1-9d79-6ecaa824a726",
   "metadata": {},
   "source": [
    "# Save Preprocessed Data"
   ]
  },
  {
   "cell_type": "code",
   "execution_count": 9,
   "id": "16298c8b-f082-4922-91a9-b48d566ac8f1",
   "metadata": {},
   "outputs": [],
   "source": [
    "df_2014_to_2020.to_csv(\"../data/preprocessed_2014_to_2020.csv\", index = False)\n",
    "df_2021_to_2022.to_csv(\"../data/preprocessed_2021_to_2022.csv\", index = False)"
   ]
  },
  {
   "cell_type": "code",
   "execution_count": null,
   "id": "85ac35d1-feab-414b-ab44-07896708b6f3",
   "metadata": {},
   "outputs": [],
   "source": []
  }
 ],
 "metadata": {
  "kernelspec": {
   "display_name": "Python 3 (ipykernel)",
   "language": "python",
   "name": "python3"
  },
  "language_info": {
   "codemirror_mode": {
    "name": "ipython",
    "version": 3
   },
   "file_extension": ".py",
   "mimetype": "text/x-python",
   "name": "python",
   "nbconvert_exporter": "python",
   "pygments_lexer": "ipython3",
   "version": "3.12.3"
  }
 },
 "nbformat": 4,
 "nbformat_minor": 5
}
